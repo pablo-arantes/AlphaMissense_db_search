{
  "nbformat": 4,
  "nbformat_minor": 0,
  "metadata": {
    "colab": {
      "provenance": [],
      "authorship_tag": "ABX9TyNfSnC4WnWfAQWmH/An0VE+",
      "include_colab_link": true
    },
    "kernelspec": {
      "name": "python3",
      "display_name": "Python 3"
    },
    "language_info": {
      "name": "python"
    }
  },
  "cells": [
    {
      "cell_type": "markdown",
      "metadata": {
        "id": "view-in-github",
        "colab_type": "text"
      },
      "source": [
        "<a href=\"https://colab.research.google.com/github/pablo-arantes/AlphaMissense_db_search/blob/main/AlphaMissense_db_search.ipynb\" target=\"_parent\"><img src=\"https://colab.research.google.com/assets/colab-badge.svg\" alt=\"Open In Colab\"/></a>"
      ]
    },
    {
      "cell_type": "markdown",
      "source": [
        "# **Hi there!**\n",
        "\n",
        "This is a Jupyter notebook to search on the AlphaMissense ([AlphaMissense 2023 publication](https://www.science.org/doi/10.1126/science.adg7492)) database using your Uniprot ID.\n",
        "\n",
        "AlphaMissense is a deep learning model that builds on the protein structure prediction tool AlphaFold2. The model is trained on population frequency data and uses sequence and predicted structural context, all of which contribute to its performance. The authors evaluated the model against related methods using clinical databases not included in the training and demonstrated agreement with multiplexed assays of variant effect. Predictions for all single–amino acid substitutions in the human proteome are provided as a community resource.\n",
        "\n",
        "---\n",
        "\n",
        "Here, we implemented an easy way to search and find a prediction for a specific variant or residue of your selected protein.\n",
        "\n",
        "---\n",
        "**Bugs**\n",
        "- If you encounter any bugs, please report the issue to https://github.com/pablo-arantes/AlphaMissense_db_search/issues\n",
        "\n",
        "**Acknowledgments**\n",
        "- We would like to thank the [AlphaMissense](https://github.com/google-deepmind/alphamissense) team to pre-computed predictions for all possible human amino acid substitutions and missense variants."
      ],
      "metadata": {
        "id": "Qqb33zzROg3S"
      }
    },
    {
      "cell_type": "code",
      "source": [
        "#@title ### **Download the Database**\n",
        "#@markdown Click in the \"Run\" buttom to download the database file.\n",
        "import gdown\n",
        "url = 'https://drive.google.com/u/0/uc?id=1FrDf9qirnQ_hd23xv3X9yrPbVaOJ-Q70'\n",
        "output = 'protein_data.db'\n",
        "gdown.download(url, output, quiet=False)"
      ],
      "metadata": {
        "colab": {
          "base_uri": "https://localhost:8080/",
          "height": 105
        },
        "cellView": "form",
        "id": "6Doe6RRLNXt9",
        "outputId": "2d8f57e8-eed3-4bcd-e94a-c2057b77a7b2"
      },
      "execution_count": 1,
      "outputs": [
        {
          "output_type": "stream",
          "name": "stderr",
          "text": [
            "Downloading...\n",
            "From: https://drive.google.com/u/0/uc?id=1FrDf9qirnQ_hd23xv3X9yrPbVaOJ-Q70\n",
            "To: /content/protein_data.db\n",
            "100%|██████████| 12.0G/12.0G [01:51<00:00, 108MB/s]\n"
          ]
        },
        {
          "output_type": "execute_result",
          "data": {
            "text/plain": [
              "'protein_data.db'"
            ],
            "application/vnd.google.colaboratory.intrinsic+json": {
              "type": "string"
            }
          },
          "metadata": {},
          "execution_count": 1
        }
      ]
    },
    {
      "cell_type": "code",
      "source": [
        "#@title **Query the Data based on specific variant**\n",
        "\n",
        "#@markdown Below, you should provide all inputs, i.e., **uniprot_id:** P09874 **protein_variant:** F74V.\n",
        "workDir = \"/content/\"\n",
        "database_name = \"protein_data.db\"\n",
        "uniprot_id = 'P09874' #@param {type:\"string\"}\n",
        "protein_variant = \"F74V\" #@param {type:\"string\"}\n",
        "output_file_name = str(uniprot_id) + \"_all_results.dat\"\n",
        "\n",
        "import sqlite3\n",
        "import gzip\n",
        "import csv\n",
        "import os\n",
        "\n",
        "def query_and_print_specific_variant(db_name, uniprot_id, protein_variant, output_file):\n",
        "    conn = sqlite3.connect(db_name)\n",
        "    cur = conn.cursor()\n",
        "\n",
        "    # Execute SQL query for all data related to uniprot_id\n",
        "    cur.execute(\"SELECT * FROM data WHERE uniprot_id = ?\", (uniprot_id,))\n",
        "    rows = cur.fetchall()\n",
        "\n",
        "    # Open the output file and write the header and all results\n",
        "    with open(output_file, 'w') as file:\n",
        "        header = \"uniprot_id  protein_variant  am_pathogenicity  am_class\\n\"\n",
        "\n",
        "        # Write the header to file\n",
        "        file.write(header)\n",
        "\n",
        "        # Print the header to console\n",
        "        print(header.strip())\n",
        "\n",
        "        # Write all rows and print specific variant rows\n",
        "        for row in rows:\n",
        "            file.write('\\t'.join(map(str, row)) + '\\n')\n",
        "            if row[1] == protein_variant:  # Check if the row is the specific variant\n",
        "                print('\\t'.join(map(str, row)))\n",
        "\n",
        "    conn.close()\n",
        "\n",
        "# Usage Example\n",
        "db_name = os.path.join(workDir, database_name)\n",
        "uniprot_id_to_search = uniprot_id  # Replace with the ID you want to search\n",
        "protein_variant_to_search = protein_variant\n",
        "output_file = os.path.join(workDir, output_file_name)    # Name of the output file\n",
        "\n",
        "query_and_print_specific_variant(db_name, uniprot_id_to_search, protein_variant_to_search, output_file)"
      ],
      "metadata": {
        "colab": {
          "base_uri": "https://localhost:8080/"
        },
        "cellView": "form",
        "id": "aRA9cA9kSmZ4",
        "outputId": "8c210c20-d768-4e17-ab33-2138608d1235"
      },
      "execution_count": 2,
      "outputs": [
        {
          "output_type": "stream",
          "name": "stdout",
          "text": [
            "uniprot_id  protein_variant  am_pathogenicity  am_class\n",
            "P09874\tF74V\t0.5155\tambiguous\n"
          ]
        }
      ]
    },
    {
      "cell_type": "code",
      "source": [
        "#@title **Query the Data based on residue number**\n",
        "\n",
        "#@markdown Below, you should provide all inputs, i.e., **uniprot_id:** P09874 **residue_number:** 74.\n",
        "workDir = \"/content/\"\n",
        "database_name = \"protein_data.db\"\n",
        "uniprot_id = 'P09874' #@param {type:\"string\"}\n",
        "residue_number = \"74\" #@param {type:\"string\"}\n",
        "output_file_name = str(uniprot_id) + \"_residue_\" + str(residue_number) +\".dat\"\n",
        "import sqlite3\n",
        "import gzip\n",
        "import csv\n",
        "import os\n",
        "\n",
        "def save_and_print_variants_by_residue(db_name, uniprot_id, residue_number, output_file):\n",
        "    conn = sqlite3.connect(db_name)\n",
        "    cur = conn.cursor()\n",
        "\n",
        "    # Execute SQL query for all data related to uniprot_id\n",
        "    cur.execute(\"SELECT * FROM data WHERE uniprot_id = ?\", (uniprot_id,))\n",
        "    rows = cur.fetchall()\n",
        "\n",
        "    # Open the output file and write the header\n",
        "    with open(output_file, 'w') as file:\n",
        "        header = \"uniprot_id\\tprotein_variant\\tam_pathogenicity\\tam_class\\n\"\n",
        "        file.write(header)\n",
        "\n",
        "        # Print the header to console\n",
        "        print(header.strip())\n",
        "\n",
        "        # Write rows matching the specified residue number to the file and print them\n",
        "        for row in rows:\n",
        "            # Extract the residue number from the protein variant\n",
        "            if len(row[1]) > 1 and row[1][1:-1].isdigit():\n",
        "                residue_num = int(row[1][1:-1])\n",
        "                if residue_num == residue_number:\n",
        "                    line = '\\t'.join(map(str, row))\n",
        "                    file.write(line + '\\n')\n",
        "                    print(line)\n",
        "\n",
        "    conn.close()\n",
        "\n",
        "# Usage Example\n",
        "db_name = os.path.join(workDir, database_name)\n",
        "uniprot_id_to_search = uniprot_id  # Replace with the ID you want to search\n",
        "residue_number_to_search = int(residue_number)\n",
        "output_file = os.path.join(workDir, output_file_name)    # Name of the output file\n",
        "\n",
        "save_and_print_variants_by_residue(db_name, uniprot_id_to_search, residue_number_to_search, output_file)"
      ],
      "metadata": {
        "colab": {
          "base_uri": "https://localhost:8080/"
        },
        "cellView": "form",
        "id": "7WITE23nbSHI",
        "outputId": "96c9473e-db12-4256-bc79-40166152fd00"
      },
      "execution_count": 7,
      "outputs": [
        {
          "output_type": "stream",
          "name": "stdout",
          "text": [
            "uniprot_id\tprotein_variant\tam_pathogenicity\tam_class\n",
            "P09874\tF74A\t0.9557\tpathogenic\n",
            "P09874\tF74C\t0.7501\tpathogenic\n",
            "P09874\tF74D\t0.9955\tpathogenic\n",
            "P09874\tF74E\t0.9956\tpathogenic\n",
            "P09874\tF74G\t0.9829\tpathogenic\n",
            "P09874\tF74H\t0.9503\tpathogenic\n",
            "P09874\tF74I\t0.4493\tambiguous\n",
            "P09874\tF74K\t0.9953\tpathogenic\n",
            "P09874\tF74L\t0.9283\tpathogenic\n",
            "P09874\tF74M\t0.8263\tpathogenic\n",
            "P09874\tF74N\t0.9772\tpathogenic\n",
            "P09874\tF74P\t0.998\tpathogenic\n",
            "P09874\tF74Q\t0.9897\tpathogenic\n",
            "P09874\tF74R\t0.9871\tpathogenic\n",
            "P09874\tF74S\t0.9419\tpathogenic\n",
            "P09874\tF74T\t0.9636\tpathogenic\n",
            "P09874\tF74V\t0.5155\tambiguous\n",
            "P09874\tF74W\t0.6688\tpathogenic\n",
            "P09874\tF74Y\t0.2123\tbenign\n"
          ]
        }
      ]
    },
    {
      "cell_type": "code",
      "source": [
        "#@title **Download your results**\n",
        "from google.colab import files\n",
        "import locale\n",
        "def getpreferredencoding(do_setlocale = True):\n",
        "    return \"UTF-8\"\n",
        "locale.getpreferredencoding = getpreferredencoding\n",
        "\n",
        "if os.path.exists(\"AlphaMissense_db_results.zip\"):\n",
        "  os.remove(\"AlphaMissense_db_results.zip\")\n",
        "else:\n",
        "  pass\n",
        "\n",
        "!zip -FSr \"AlphaMissense_db_results.zip\" *.\"dat\" >/dev/null 2>&1\n",
        "files.download('AlphaMissense_db_results.zip')"
      ],
      "metadata": {
        "colab": {
          "base_uri": "https://localhost:8080/",
          "height": 17
        },
        "cellView": "form",
        "id": "uaGUJXl1SBuH",
        "outputId": "3bd85ca2-f146-4747-9f6d-1eb713ef8c6f"
      },
      "execution_count": 6,
      "outputs": [
        {
          "output_type": "display_data",
          "data": {
            "text/plain": [
              "<IPython.core.display.Javascript object>"
            ],
            "application/javascript": [
              "\n",
              "    async function download(id, filename, size) {\n",
              "      if (!google.colab.kernel.accessAllowed) {\n",
              "        return;\n",
              "      }\n",
              "      const div = document.createElement('div');\n",
              "      const label = document.createElement('label');\n",
              "      label.textContent = `Downloading \"${filename}\": `;\n",
              "      div.appendChild(label);\n",
              "      const progress = document.createElement('progress');\n",
              "      progress.max = size;\n",
              "      div.appendChild(progress);\n",
              "      document.body.appendChild(div);\n",
              "\n",
              "      const buffers = [];\n",
              "      let downloaded = 0;\n",
              "\n",
              "      const channel = await google.colab.kernel.comms.open(id);\n",
              "      // Send a message to notify the kernel that we're ready.\n",
              "      channel.send({})\n",
              "\n",
              "      for await (const message of channel.messages) {\n",
              "        // Send a message to notify the kernel that we're ready.\n",
              "        channel.send({})\n",
              "        if (message.buffers) {\n",
              "          for (const buffer of message.buffers) {\n",
              "            buffers.push(buffer);\n",
              "            downloaded += buffer.byteLength;\n",
              "            progress.value = downloaded;\n",
              "          }\n",
              "        }\n",
              "      }\n",
              "      const blob = new Blob(buffers, {type: 'application/binary'});\n",
              "      const a = document.createElement('a');\n",
              "      a.href = window.URL.createObjectURL(blob);\n",
              "      a.download = filename;\n",
              "      div.appendChild(a);\n",
              "      a.click();\n",
              "      div.remove();\n",
              "    }\n",
              "  "
            ]
          },
          "metadata": {}
        },
        {
          "output_type": "display_data",
          "data": {
            "text/plain": [
              "<IPython.core.display.Javascript object>"
            ],
            "application/javascript": [
              "download(\"download_42e121dc-ab68-46de-830c-43a726b38ba2\", \"AlphaMissense_db_results.zip\", 112730)"
            ]
          },
          "metadata": {}
        }
      ]
    }
  ]
}