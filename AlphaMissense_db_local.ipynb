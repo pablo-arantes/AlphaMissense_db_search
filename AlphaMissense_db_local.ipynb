{
 "cells": [
  {
   "cell_type": "markdown",
   "metadata": {
    "id": "Qqb33zzROg3S"
   },
   "source": [
    "# **Hi there!**\n",
    "\n",
    "This is a Jupyter notebook to search on the AlphaMissense ([AlphaMissense 2023 publication](https://www.science.org/doi/10.1126/science.adg7492)) database using your Uniprot ID.\n",
    "\n",
    "AlphaMissense is a deep learning model that builds on the protein structure prediction tool AlphaFold2. The model is trained on population frequency data and uses sequence and predicted structural context, all of which contribute to its performance. The authors evaluated the model against related methods using clinical databases not included in the training and demonstrated agreement with multiplexed assays of variant effect. Predictions for all single–amino acid substitutions in the human proteome are provided as a community resource.\n",
    "\n",
    "---\n",
    "\n",
    "Here, we implemented an easy way to search and find a prediction for a specific variant or residue of your selected protein.\n",
    "\n",
    "---\n",
    "**Bugs**\n",
    "- If you encounter any bugs, please report the issue to https://github.com/pablo-arantes/AlphaMissense_db_search/issues\n",
    "\n",
    "**Acknowledgments**\n",
    "- We would like to thank the [AlphaMissense](https://github.com/google-deepmind/alphamissense) team to pre-computed predictions for all possible human amino acid substitutions and missense variants."
   ]
  },
  {
   "cell_type": "code",
   "execution_count": 2,
   "metadata": {},
   "outputs": [
    {
     "name": "stdout",
     "output_type": "stream",
     "text": [
      "Collecting gdown\n",
      "  Downloading gdown-5.2.0-py3-none-any.whl.metadata (5.8 kB)\n",
      "Requirement already satisfied: beautifulsoup4 in /Users/pabloarantes/miniforge3/lib/python3.10/site-packages (from gdown) (4.12.3)\n",
      "Collecting filelock (from gdown)\n",
      "  Downloading filelock-3.15.4-py3-none-any.whl.metadata (2.9 kB)\n",
      "Requirement already satisfied: requests[socks] in /Users/pabloarantes/miniforge3/lib/python3.10/site-packages (from gdown) (2.31.0)\n",
      "Requirement already satisfied: tqdm in /Users/pabloarantes/miniforge3/lib/python3.10/site-packages (from gdown) (4.66.2)\n",
      "Requirement already satisfied: soupsieve>1.2 in /Users/pabloarantes/miniforge3/lib/python3.10/site-packages (from beautifulsoup4->gdown) (2.5)\n",
      "Requirement already satisfied: charset-normalizer<4,>=2 in /Users/pabloarantes/miniforge3/lib/python3.10/site-packages (from requests[socks]->gdown) (3.3.2)\n",
      "Requirement already satisfied: idna<4,>=2.5 in /Users/pabloarantes/miniforge3/lib/python3.10/site-packages (from requests[socks]->gdown) (3.6)\n",
      "Requirement already satisfied: urllib3<3,>=1.21.1 in /Users/pabloarantes/miniforge3/lib/python3.10/site-packages (from requests[socks]->gdown) (2.2.1)\n",
      "Requirement already satisfied: certifi>=2017.4.17 in /Users/pabloarantes/miniforge3/lib/python3.10/site-packages (from requests[socks]->gdown) (2024.2.2)\n",
      "Requirement already satisfied: PySocks!=1.5.7,>=1.5.6 in /Users/pabloarantes/miniforge3/lib/python3.10/site-packages (from requests[socks]->gdown) (1.7.1)\n",
      "Downloading gdown-5.2.0-py3-none-any.whl (18 kB)\n",
      "Downloading filelock-3.15.4-py3-none-any.whl (16 kB)\n",
      "Installing collected packages: filelock, gdown\n",
      "Successfully installed filelock-3.15.4 gdown-5.2.0\n"
     ]
    }
   ],
   "source": [
    "#Install Dependecies\n",
    "#If you have done this step before, you don't need to run this cell again.\n",
    "!pip install gdown"
   ]
  },
  {
   "cell_type": "code",
   "execution_count": 3,
   "metadata": {
    "cellView": "form",
    "colab": {
     "base_uri": "https://localhost:8080/",
     "height": 105
    },
    "id": "6Doe6RRLNXt9",
    "outputId": "2d8f57e8-eed3-4bcd-e94a-c2057b77a7b2"
   },
   "outputs": [
    {
     "name": "stderr",
     "output_type": "stream",
     "text": [
      "Downloading...\n",
      "From (original): https://drive.google.com/u/0/uc?id=1FrDf9qirnQ_hd23xv3X9yrPbVaOJ-Q70\n",
      "From (redirected): https://drive.google.com/uc?id=1FrDf9qirnQ_hd23xv3X9yrPbVaOJ-Q70&confirm=t&uuid=45073462-c92f-41a5-8647-5db6451cc249\n",
      "To: /Users/pabloarantes/Downloads/protein_data.db\n",
      "100%|████████████████████████████████████████████████████████████████████████████████████████████████████████████████████████████████████████████████████████████| 12.0G/12.0G [05:53<00:00, 33.9MB/s]\n"
     ]
    },
    {
     "data": {
      "text/plain": [
       "'protein_data.db'"
      ]
     },
     "execution_count": 3,
     "metadata": {},
     "output_type": "execute_result"
    }
   ],
   "source": [
    "#Download the Database\n",
    "#Run the cell to download the database file. If you have done this step before, you can skip this step.\n",
    "import gdown\n",
    "url = 'https://drive.google.com/u/0/uc?id=1FrDf9qirnQ_hd23xv3X9yrPbVaOJ-Q70'\n",
    "output = 'protein_data.db'\n",
    "gdown.download(url, output, quiet=False)"
   ]
  },
  {
   "cell_type": "code",
   "execution_count": 4,
   "metadata": {
    "cellView": "form",
    "colab": {
     "base_uri": "https://localhost:8080/"
    },
    "id": "aRA9cA9kSmZ4",
    "outputId": "8c210c20-d768-4e17-ab33-2138608d1235"
   },
   "outputs": [
    {
     "name": "stdout",
     "output_type": "stream",
     "text": [
      "uniprot_id  protein_variant  am_pathogenicity  am_class\n",
      "P09874\tF74V\t0.5155\tambiguous\n"
     ]
    }
   ],
   "source": [
    "#Query the Data based on specific variant\n",
    "\n",
    "#Below, you should provide all inputs, i.e., **uniprot_id:** P09874 **protein_variant:** F74V.\n",
    "workDir = \"./\"\n",
    "database_name = \"protein_data.db\"\n",
    "uniprot_id = 'P09874' #YOUR UNIPROT_ID\n",
    "protein_variant = \"F74V\" #YOUR PROTEIN VARIANT i.e F74V, S75C\n",
    "output_file_name = str(uniprot_id) + \"_all_results.dat\"\n",
    "\n",
    "import sqlite3\n",
    "import gzip\n",
    "import csv\n",
    "import os\n",
    "\n",
    "def query_and_print_specific_variant(db_name, uniprot_id, protein_variant, output_file):\n",
    "    conn = sqlite3.connect(db_name)\n",
    "    cur = conn.cursor()\n",
    "\n",
    "    # Execute SQL query for all data related to uniprot_id\n",
    "    cur.execute(\"SELECT * FROM data WHERE uniprot_id = ?\", (uniprot_id,))\n",
    "    rows = cur.fetchall()\n",
    "\n",
    "    # Open the output file and write the header and all results\n",
    "    with open(output_file, 'w') as file:\n",
    "        header = \"uniprot_id  protein_variant  am_pathogenicity  am_class\\n\"\n",
    "\n",
    "        # Write the header to file\n",
    "        file.write(header)\n",
    "\n",
    "        # Print the header to console\n",
    "        print(header.strip())\n",
    "\n",
    "        # Write all rows and print specific variant rows\n",
    "        for row in rows:\n",
    "            file.write('\\t'.join(map(str, row)) + '\\n')\n",
    "            if row[1] == protein_variant:  # Check if the row is the specific variant\n",
    "                print('\\t'.join(map(str, row)))\n",
    "\n",
    "    conn.close()\n",
    "\n",
    "# Usage Example\n",
    "db_name = os.path.join(workDir, database_name)\n",
    "uniprot_id_to_search = uniprot_id  # Replace with the ID you want to search\n",
    "protein_variant_to_search = protein_variant\n",
    "output_file = os.path.join(workDir, output_file_name)    # Name of the output file\n",
    "\n",
    "query_and_print_specific_variant(db_name, uniprot_id_to_search, protein_variant_to_search, output_file)"
   ]
  },
  {
   "cell_type": "code",
   "execution_count": 5,
   "metadata": {
    "cellView": "form",
    "colab": {
     "base_uri": "https://localhost:8080/"
    },
    "id": "7WITE23nbSHI",
    "outputId": "96c9473e-db12-4256-bc79-40166152fd00"
   },
   "outputs": [
    {
     "name": "stdout",
     "output_type": "stream",
     "text": [
      "uniprot_id\tprotein_variant\tam_pathogenicity\tam_class\n",
      "P09874\tF74A\t0.9557\tpathogenic\n",
      "P09874\tF74C\t0.7501\tpathogenic\n",
      "P09874\tF74D\t0.9955\tpathogenic\n",
      "P09874\tF74E\t0.9956\tpathogenic\n",
      "P09874\tF74G\t0.9829\tpathogenic\n",
      "P09874\tF74H\t0.9503\tpathogenic\n",
      "P09874\tF74I\t0.4493\tambiguous\n",
      "P09874\tF74K\t0.9953\tpathogenic\n",
      "P09874\tF74L\t0.9283\tpathogenic\n",
      "P09874\tF74M\t0.8263\tpathogenic\n",
      "P09874\tF74N\t0.9772\tpathogenic\n",
      "P09874\tF74P\t0.998\tpathogenic\n",
      "P09874\tF74Q\t0.9897\tpathogenic\n",
      "P09874\tF74R\t0.9871\tpathogenic\n",
      "P09874\tF74S\t0.9419\tpathogenic\n",
      "P09874\tF74T\t0.9636\tpathogenic\n",
      "P09874\tF74V\t0.5155\tambiguous\n",
      "P09874\tF74W\t0.6688\tpathogenic\n",
      "P09874\tF74Y\t0.2123\tbenign\n"
     ]
    }
   ],
   "source": [
    "#Query the Data based on residue number\n",
    "\n",
    "#Below, you should provide all inputs, i.e., **uniprot_id:** P09874 **residue_number:** 74.\n",
    "\n",
    "workDir = \"./\"\n",
    "database_name = \"protein_data.db\"\n",
    "uniprot_id = 'P09874' #YOUR UNIPROT_ID\n",
    "residue_number = \"74\" #YOUR RESIDUE NUMBER\n",
    "output_file_name = str(uniprot_id) + \"_residue_\" + str(residue_number) +\".dat\"\n",
    "\n",
    "\n",
    "import sqlite3\n",
    "import gzip\n",
    "import csv\n",
    "import os\n",
    "\n",
    "def save_and_print_variants_by_residue(db_name, uniprot_id, residue_number, output_file):\n",
    "    conn = sqlite3.connect(db_name)\n",
    "    cur = conn.cursor()\n",
    "\n",
    "    # Execute SQL query for all data related to uniprot_id\n",
    "    cur.execute(\"SELECT * FROM data WHERE uniprot_id = ?\", (uniprot_id,))\n",
    "    rows = cur.fetchall()\n",
    "\n",
    "    # Open the output file and write the header\n",
    "    with open(output_file, 'w') as file:\n",
    "        header = \"uniprot_id\\tprotein_variant\\tam_pathogenicity\\tam_class\\n\"\n",
    "        file.write(header)\n",
    "\n",
    "        # Print the header to console\n",
    "        print(header.strip())\n",
    "\n",
    "        # Write rows matching the specified residue number to the file and print them\n",
    "        for row in rows:\n",
    "            # Extract the residue number from the protein variant\n",
    "            if len(row[1]) > 1 and row[1][1:-1].isdigit():\n",
    "                residue_num = int(row[1][1:-1])\n",
    "                if residue_num == residue_number:\n",
    "                    line = '\\t'.join(map(str, row))\n",
    "                    file.write(line + '\\n')\n",
    "                    print(line)\n",
    "\n",
    "    conn.close()\n",
    "\n",
    "# Usage Example\n",
    "db_name = os.path.join(workDir, database_name)\n",
    "uniprot_id_to_search = uniprot_id  # Replace with the ID you want to search\n",
    "residue_number_to_search = int(residue_number)\n",
    "output_file = os.path.join(workDir, output_file_name)    # Name of the output file\n",
    "\n",
    "save_and_print_variants_by_residue(db_name, uniprot_id_to_search, residue_number_to_search, output_file)"
   ]
  }
 ],
 "metadata": {
  "colab": {
   "authorship_tag": "ABX9TyNfSnC4WnWfAQWmH/An0VE+",
   "include_colab_link": true,
   "provenance": []
  },
  "kernelspec": {
   "display_name": "Python 3 (ipykernel)",
   "language": "python",
   "name": "python3"
  },
  "language_info": {
   "codemirror_mode": {
    "name": "ipython",
    "version": 3
   },
   "file_extension": ".py",
   "mimetype": "text/x-python",
   "name": "python",
   "nbconvert_exporter": "python",
   "pygments_lexer": "ipython3",
   "version": "3.10.14"
  }
 },
 "nbformat": 4,
 "nbformat_minor": 4
}
